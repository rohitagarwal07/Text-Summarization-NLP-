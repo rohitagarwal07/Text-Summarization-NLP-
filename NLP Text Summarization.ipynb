{
 "cells": [
  {
   "cell_type": "code",
   "execution_count": 1,
   "id": "d6762eed",
   "metadata": {},
   "outputs": [
    {
     "name": "stdout",
     "output_type": "stream",
     "text": [
      " There are many techniques available to generate extractive summarization to keep it simple, I will be using an unsupervised learning approach to find the sentences similarity and rank them. Cosine similarity is a measure of similarity between two non-zero vectors of an inner product space that measures the cosine of the angle between them.\n"
     ]
    }
   ],
   "source": [
    "import nltk\n",
    "from nltk.corpus import stopwords\n",
    "from nltk.tokenize import sent_tokenize, word_tokenize\n",
    "\n",
    "# Define the text\n",
    "text = \"There are many techniques available to generate extractive summarization to keep it simple, I will be using an unsupervised learning approach to find the sentences similarity and rank them. Summarization can be defined as a task of producing a concise and fluent summary while preserving key information and overall meaning. One benefit of this will be, you don’t need to train and build a model prior start using it for your project. It’s good to understand Cosine similarity to make the best use of the code you are going to see. Cosine similarity is a measure of similarity between two non-zero vectors of an inner product space that measures the cosine of the angle between them. Its measures cosine of the angle between vectors. The angle will be 0 if sentences are similar.\"\n",
    "\n",
    "# Initialize stop words\n",
    "stopsword = set(stopwords.words(\"english\"))\n",
    "\n",
    "# Tokenize the words\n",
    "words = word_tokenize(text)\n",
    "\n",
    "# Create frequency table for words\n",
    "freq_table = dict()\n",
    "for word in words:\n",
    "    word = word.lower()\n",
    "    if word in stopsword:\n",
    "        continue\n",
    "    if word in freq_table:\n",
    "        freq_table[word] += 1\n",
    "    else:\n",
    "        freq_table[word] = 1\n",
    "\n",
    "# Tokenize sentences\n",
    "sentences = sent_tokenize(text)\n",
    "\n",
    "# Create dictionary to score sentences\n",
    "sentenceword = dict()\n",
    "for sentence in sentences:\n",
    "    for word, freq in freq_table.items():\n",
    "        if word in sentence.lower():\n",
    "            if sentence in sentenceword:\n",
    "                sentenceword[sentence] += freq\n",
    "            else:\n",
    "                sentenceword[sentence] = freq\n",
    "\n",
    "# Calculate sum of all sentence values\n",
    "sumvalue = 0\n",
    "for sentence in sentenceword:\n",
    "    sumvalue += sentenceword[sentence] \n",
    "\n",
    "# Compute average sentence value\n",
    "average = int(sumvalue / len(sentenceword))\n",
    "\n",
    "# Generate summary\n",
    "summary = \"\"\n",
    "for sentence in sentences:\n",
    "    if (sentence in sentenceword) and (sentenceword[sentence] > (1.2 * average)):\n",
    "        summary += \" \" + sentence\n",
    "\n",
    "print(summary)\n"
   ]
  }
 ],
 "metadata": {
  "kernelspec": {
   "display_name": "Python 3 (ipykernel)",
   "language": "python",
   "name": "python3"
  },
  "language_info": {
   "codemirror_mode": {
    "name": "ipython",
    "version": 3
   },
   "file_extension": ".py",
   "mimetype": "text/x-python",
   "name": "python",
   "nbconvert_exporter": "python",
   "pygments_lexer": "ipython3",
   "version": "3.11.3"
  }
 },
 "nbformat": 4,
 "nbformat_minor": 5
}
